{
 "cells": [
  {
   "cell_type": "code",
   "execution_count": 2,
   "metadata": {},
   "outputs": [],
   "source": [
    "from collections import defaultdict\n",
    "\n",
    "\n",
    "class ContactBook:\n",
    "    def __init__(self):\n",
    "        self.contacts = defaultdict(dict)\n",
    "\n",
    "    def add_contact(self, name, phone, email=None):\n",
    "        if name in self.contacts:\n",
    "            print('contact already exit!')\n",
    "            return\n",
    "        self.contacts[name]['phone'] = phone\n",
    "        self.contacts[name]['email'] = email\n",
    "\n",
    "    def view_contact(self):\n",
    "        for name, info in self.contacts.items():\n",
    "            print(f\"name:{name}\")\n",
    "            print(f\"phone:{info['phone']}\")\n",
    "            print(f\"email:{info['email']}\")\n",
    "            print('-' * 50)\n",
    "\n",
    "    def update_contact(self, name, phone=None, email=None):\n",
    "\n",
    "        if name in self.contacts:\n",
    "            if phone:\n",
    "                self.contacts[name]['phone'] = phone\n",
    "            if email:\n",
    "                self.contacts[name]['email'] = email\n",
    "            \n",
    "            print('Contact updeted successfully!')\n",
    "        # print('Contact not found!')\n",
    "\n",
    "    def delete_contact(self, name):\n",
    "        if name in self.contacts:\n",
    "            del self.contacts[name]\n",
    "            print(\"Contact deleted successfully!\")\n",
    "        else:\n",
    "            print(\"Contact not found!\")\n",
    "\n",
    "\n"
   ]
  },
  {
   "cell_type": "code",
   "execution_count": 3,
   "metadata": {},
   "outputs": [
    {
     "name": "stdout",
     "output_type": "stream",
     "text": [
      "\n",
      "\n",
      "Welcome to contact book application!\n",
      "1. Add Contact\n",
      "2. Edit Contact\n",
      "3. View Contact\n",
      "4. Delete Contact\n",
      "5. Quit\n",
      "\n",
      "\n",
      "Welcome to contact book application!\n",
      "1. Add Contact\n",
      "2. Edit Contact\n",
      "3. View Contact\n",
      "4. Delete Contact\n",
      "5. Quit\n"
     ]
    }
   ],
   "source": [
    "\n",
    "\n",
    "book = ContactBook()\n",
    "\n",
    "while True:\n",
    "    print('\\n\\nWelcome to contact book application!')\n",
    "    print('1. Add Contact')\n",
    "    print('2. Edit Contact')\n",
    "    print('3. View Contact')\n",
    "    print('4. Delete Contact')\n",
    "    print('5. Quit')\n",
    "\n",
    "    user_choice = input('Please choose an option: ')\n",
    "    if user_choice == '5':\n",
    "        break\n",
    "    elif user_choice == '1':\n",
    "        name = input('\\nEnter Contact name: ')\n",
    "        phone = input('Enter Contact phone: ')\n",
    "        email = input('Enter Contact email: ')\n",
    "\n",
    "        book.add_contact(name, phone, email)\n",
    "\n",
    "    elif user_choice == '2':\n",
    "        name = input('\\nEnter CContact name: ')\n",
    "        phone = input('Enter Contact phone: ')\n",
    "        email = input('Enter Contact email: ')\n",
    "\n",
    "        book.update_contact(name, phone, email)\n",
    "\n",
    "    elif user_choice == '3':\n",
    "        print('\\n\\nList of Contact: ')\n",
    "        book.view_contact()\n",
    "    \n",
    "    elif user_choice == '4':\n",
    "        name = input('\\nEnter CContact name: ')\n",
    "        book.delete_contact(name)\n",
    "\n",
    "\n"
   ]
  },
  {
   "cell_type": "code",
   "execution_count": 22,
   "metadata": {},
   "outputs": [
    {
     "name": "stdout",
     "output_type": "stream",
     "text": [
      "Contact not found!\n"
     ]
    }
   ],
   "source": [
    "book.delete_contact('ali')"
   ]
  },
  {
   "cell_type": "code",
   "execution_count": 36,
   "metadata": {},
   "outputs": [],
   "source": [
    "book.add_contact(\n",
    "    name = \"mina\",\n",
    "    phone = \"123-996-98\",\n",
    "    email = \"m@mail.com\"\n",
    ")"
   ]
  },
  {
   "cell_type": "code",
   "execution_count": 37,
   "metadata": {},
   "outputs": [],
   "source": [
    "book.add_contact(\n",
    "    name = \"maryam\",\n",
    "    phone = \"123-456-78\",\n",
    "    email = \"m@gmail.com\"\n",
    ")"
   ]
  },
  {
   "cell_type": "code",
   "execution_count": 38,
   "metadata": {},
   "outputs": [
    {
     "name": "stdout",
     "output_type": "stream",
     "text": [
      "name:mina\n",
      "phone:123-996-98\n",
      "email:m@mail.com\n",
      "--------------------------------------------------\n",
      "name:maryam\n",
      "phone:123-456-78\n",
      "email:m@gmail.com\n",
      "--------------------------------------------------\n"
     ]
    }
   ],
   "source": [
    "book.view_contact()"
   ]
  },
  {
   "cell_type": "code",
   "execution_count": 26,
   "metadata": {},
   "outputs": [
    {
     "name": "stdout",
     "output_type": "stream",
     "text": [
      "Contact deleted successfully!\n"
     ]
    }
   ],
   "source": [
    "# book.delete_contact('mina')"
   ]
  },
  {
   "cell_type": "code",
   "execution_count": 39,
   "metadata": {},
   "outputs": [
    {
     "name": "stdout",
     "output_type": "stream",
     "text": [
      "name:mina\n",
      "phone:123-996-98\n",
      "email:m@mail.com\n",
      "--------------------------------------------------\n",
      "name:maryam\n",
      "phone:123-456-78\n",
      "email:m@gmail.com\n",
      "--------------------------------------------------\n"
     ]
    }
   ],
   "source": [
    "book.view_contact()"
   ]
  },
  {
   "cell_type": "code",
   "execution_count": 40,
   "metadata": {},
   "outputs": [
    {
     "name": "stdout",
     "output_type": "stream",
     "text": [
      "Contact updeted successfully!\n"
     ]
    }
   ],
   "source": [
    "book.update_contact(\n",
    "    'maryam',\n",
    "    phone = '999-999-99',\n",
    "    # email = \"new_email@gmail.com\",\n",
    ")\n"
   ]
  },
  {
   "cell_type": "code",
   "execution_count": 42,
   "metadata": {},
   "outputs": [
    {
     "name": "stdout",
     "output_type": "stream",
     "text": [
      "name:mina\n",
      "phone:123-996-98\n",
      "email:m@mail.com\n",
      "--------------------------------------------------\n",
      "name:maryam\n",
      "phone:999-999-99\n",
      "email:m@gmail.com\n",
      "--------------------------------------------------\n"
     ]
    }
   ],
   "source": [
    "book.view_contact()"
   ]
  },
  {
   "cell_type": "code",
   "execution_count": null,
   "metadata": {},
   "outputs": [],
   "source": []
  }
 ],
 "metadata": {
  "kernelspec": {
   "display_name": "base",
   "language": "python",
   "name": "python3"
  },
  "language_info": {
   "codemirror_mode": {
    "name": "ipython",
    "version": 3
   },
   "file_extension": ".py",
   "mimetype": "text/x-python",
   "name": "python",
   "nbconvert_exporter": "python",
   "pygments_lexer": "ipython3",
   "version": "3.11.4"
  }
 },
 "nbformat": 4,
 "nbformat_minor": 2
}
