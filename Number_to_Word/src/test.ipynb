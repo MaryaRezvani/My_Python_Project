{
 "cells": [
  {
   "cell_type": "code",
   "execution_count": 1,
   "metadata": {},
   "outputs": [],
   "source": [
    "UNDER_TWENTY = [\n",
    "    'Zero', 'One', 'Two', 'Three', 'Four', 'Five', 'Six', 'Seven', 'Eight', 'Nine',\n",
    "    'Ten', 'Eleven', 'Twelve', 'Thirteen', 'Fourteen', 'Fifteen', 'Sixteen',\n",
    "    'Seventeen', 'Eighteen', 'Nineteen'\n",
    "]\n"
   ]
  },
  {
   "cell_type": "code",
   "execution_count": 2,
   "metadata": {},
   "outputs": [],
   "source": [
    "TENS = [\n",
    "    '','', 'Twenty', 'Thirty', 'Forty', 'Fifty', 'Sixty', 'Seventy', 'Eighty', 'Ninety'\n",
    "]"
   ]
  },
  {
   "cell_type": "code",
   "execution_count": 3,
   "metadata": {},
   "outputs": [],
   "source": [
    "ABOVE_100 = {\n",
    "    100: 'Hundred',\n",
    "    1000: 'Thousand',\n",
    "    1000000: 'Million',\n",
    "    1000000000: 'Billion',\n",
    "    1000000000000: 'Trillion'\n",
    "}\n"
   ]
  },
  {
   "cell_type": "code",
   "execution_count": 4,
   "metadata": {},
   "outputs": [],
   "source": [
    "def num_to_word(num):\n",
    "    if num < 20:\n",
    "        return UNDER_TWENTY[num]\n",
    "    elif num < 100:\n",
    "        reminder = num % 10\n",
    "        if reminder == 0:\n",
    "            return TENS[num // 10]\n",
    "        return TENS[num // 10] + \" \" + UNDER_TWENTY[reminder]\n",
    "    \n",
    "    pivot = max([key for key in ABOVE_100 if key <= num])\n",
    "    p1 = num_to_word(num // pivot)\n",
    "    p2 =  ABOVE_100[pivot]\n",
    "\n",
    "    if num % pivot == 0:\n",
    "        return f'{p1} {p2}'\n",
    "\n",
    "    return f'{p1} {p2} {num_to_word(num % pivot)}'"
   ]
  },
  {
   "cell_type": "code",
   "execution_count": 5,
   "metadata": {},
   "outputs": [
    {
     "data": {
      "text/plain": [
       "'One Hundred Twenty Eight'"
      ]
     },
     "execution_count": 5,
     "metadata": {},
     "output_type": "execute_result"
    }
   ],
   "source": [
    "num_to_word(128)"
   ]
  },
  {
   "cell_type": "code",
   "execution_count": null,
   "metadata": {},
   "outputs": [],
   "source": []
  }
 ],
 "metadata": {
  "kernelspec": {
   "display_name": "base",
   "language": "python",
   "name": "python3"
  },
  "language_info": {
   "codemirror_mode": {
    "name": "ipython",
    "version": 3
   },
   "file_extension": ".py",
   "mimetype": "text/x-python",
   "name": "python",
   "nbconvert_exporter": "python",
   "pygments_lexer": "ipython3",
   "version": "3.11.4"
  }
 },
 "nbformat": 4,
 "nbformat_minor": 2
}
